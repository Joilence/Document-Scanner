{
 "cells": [
  {
   "cell_type": "code",
   "execution_count": 2,
   "metadata": {
    "ExecuteTime": {
     "end_time": "2018-07-21T03:12:13.197682Z",
     "start_time": "2018-07-21T03:12:11.519976Z"
    }
   },
   "outputs": [],
   "source": [
    "import pickle\n",
    "from sklearn.externals import joblib\n",
    "from sklearn import datasets\n",
    "from skimage.feature import hog\n",
    "from sklearn.svm import LinearSVC\n",
    "import numpy as np\n",
    "from collections import Counter\n",
    "import cv2\n",
    "from skimage.feature import hog\n",
    "from matplotlib import pyplot as plt"
   ]
  },
  {
   "cell_type": "code",
   "execution_count": 2,
   "metadata": {
    "ExecuteTime": {
     "end_time": "2018-07-20T17:32:44.926360Z",
     "start_time": "2018-07-20T17:32:44.906460Z"
    }
   },
   "outputs": [],
   "source": [
    "filename = [\n",
    "[\"training_images\",\"data/train-images-idx3-ubyte\"],\n",
    "[\"test_images\",\"data/t10k-images-idx3-ubyte\"],\n",
    "[\"training_labels\",\"data/train-labels-idx1-ubyte\"],\n",
    "[\"test_labels\",\"data/t10k-labels-idx1-ubyte\"]\n",
    "]\n",
    "\n",
    "def save_mnist():\n",
    "    mnist = {}\n",
    "    for name in filename[:2]:\n",
    "        with open(name[1], 'rb') as f:\n",
    "            mnist[name[0]] = np.frombuffer(f.read(), np.uint8, offset=16).reshape(-1,28*28)\n",
    "    for name in filename[-2:]:\n",
    "        with open(name[1], 'rb') as f:\n",
    "            mnist[name[0]] = np.frombuffer(f.read(), np.uint8, offset=8)\n",
    "    with open(\"data/mnist.pkl\", 'wb') as f:\n",
    "        pickle.dump(mnist,f)\n",
    "    print(\"Save complete.\")\n",
    "\n",
    "def load():\n",
    "    with open(\"data/mnist.pkl\",'rb') as f:\n",
    "        mnist = pickle.load(f)\n",
    "    return mnist[\"training_images\"], mnist[\"training_labels\"], mnist[\"test_images\"], mnist[\"test_labels\"]"
   ]
  },
  {
   "cell_type": "code",
   "execution_count": 2,
   "metadata": {
    "ExecuteTime": {
     "end_time": "2018-07-19T17:31:00.064621Z",
     "start_time": "2018-07-19T17:30:59.765483Z"
    }
   },
   "outputs": [
    {
     "name": "stdout",
     "output_type": "stream",
     "text": [
      "Save complete.\n"
     ]
    }
   ],
   "source": [
    "save_mnist()"
   ]
  },
  {
   "cell_type": "markdown",
   "metadata": {},
   "source": [
    "# Train"
   ]
  },
  {
   "cell_type": "code",
   "execution_count": 3,
   "metadata": {
    "ExecuteTime": {
     "end_time": "2018-07-19T17:53:50.418997Z",
     "start_time": "2018-07-19T17:53:50.224923Z"
    }
   },
   "outputs": [],
   "source": [
    "X_train, y_train, X_test, y_test = load()"
   ]
  },
  {
   "cell_type": "code",
   "execution_count": 5,
   "metadata": {
    "ExecuteTime": {
     "end_time": "2018-07-19T17:54:07.080513Z",
     "start_time": "2018-07-19T17:53:53.186879Z"
    }
   },
   "outputs": [
    {
     "name": "stderr",
     "output_type": "stream",
     "text": [
      "/usr/local/anaconda3/lib/python3.6/site-packages/skimage/feature/_hog.py:150: skimage_deprecation: Default value of `block_norm`==`L1` is deprecated and will be changed to `L2-Hys` in v0.15. To supress this message specify explicitly the normalization method.\n",
      "  skimage_deprecation)\n",
      "/usr/local/anaconda3/lib/python3.6/site-packages/skimage/feature/_hog.py:248: skimage_deprecation: Argument `visualise` is deprecated and will be changed to `visualize` in v0.16\n",
      "  'be changed to `visualize` in v0.16', skimage_deprecation)\n"
     ]
    },
    {
     "name": "stdout",
     "output_type": "stream",
     "text": [
      "Count of digits in dataset Counter({1: 6742, 7: 6265, 3: 6131, 2: 5958, 9: 5949, 0: 5923, 6: 5918, 8: 5851, 4: 5842, 5: 5421})\n"
     ]
    },
    {
     "data": {
      "text/plain": [
       "['digits_cls.pkl']"
      ]
     },
     "execution_count": 5,
     "metadata": {},
     "output_type": "execute_result"
    }
   ],
   "source": [
    "# Extract the hog features\n",
    "features = X_train.copy()\n",
    "labels = y_train.copy()\n",
    "list_hog_fd = []\n",
    "for feature in features:\n",
    "    fd = hog(feature.reshape((28, 28)), orientations=9, pixels_per_cell=(14, 14), cells_per_block=(1, 1), visualise=False)\n",
    "    list_hog_fd.append(fd)\n",
    "hog_features = np.array(list_hog_fd, 'float64')\n",
    "\n",
    "print (\"Count of digits in dataset\", Counter(labels))\n",
    "\n",
    "# Create an linear SVM object\n",
    "clf = LinearSVC()\n",
    "\n",
    "# Perform the training\n",
    "clf.fit(hog_features, labels)\n",
    "\n",
    "# Save the classifier\n",
    "joblib.dump(clf, \"model/digits_cls.pkl\", compress=3)"
   ]
  },
  {
   "cell_type": "markdown",
   "metadata": {},
   "source": [
    "# Preprocessing"
   ]
  },
  {
   "cell_type": "code",
   "execution_count": 3,
   "metadata": {
    "ExecuteTime": {
     "end_time": "2018-07-21T03:12:19.795768Z",
     "start_time": "2018-07-21T03:12:19.722950Z"
    },
    "scrolled": false
   },
   "outputs": [
    {
     "name": "stdout",
     "output_type": "stream",
     "text": [
      "143  rectangle found.\n"
     ]
    }
   ],
   "source": [
    "# Read the input image\n",
    "src_img = cv2.imread(\"data/test/15331009-iter.jpg\", cv2.IMREAD_GRAYSCALE)\n",
    "\n",
    "# Reference para\n",
    "img_h, img_w = src_img.shape\n",
    "\n",
    "blur_img = cv2.GaussianBlur(src_img, (5, 5), 0)\n",
    "\n",
    "\n",
    "# Threshold the image\n",
    "_, th_img = cv2.threshold(blur_img, 90, 255, cv2.THRESH_BINARY_INV)\n",
    "\n",
    "# Find contours in the image\n",
    "_, ctrs, _ = cv2.findContours(th_img.copy(), cv2.RETR_EXTERNAL, cv2.CHAIN_APPROX_SIMPLE)\n",
    "\n",
    "# Get rectangles contains each contour\n",
    "rects = [cv2.boundingRect(ctr) for ctr in ctrs]\n",
    "print(len(rects), ' rectangle found.')"
   ]
  },
  {
   "cell_type": "markdown",
   "metadata": {},
   "source": [
    "## Pre-Sift Rects"
   ]
  },
  {
   "cell_type": "code",
   "execution_count": 4,
   "metadata": {
    "ExecuteTime": {
     "end_time": "2018-07-21T03:12:22.106551Z",
     "start_time": "2018-07-21T03:12:22.097439Z"
    }
   },
   "outputs": [
    {
     "name": "stdout",
     "output_type": "stream",
     "text": [
      "#---- Pre-Sift Rects by Size ----#\n",
      "delete rect:  (1342, 0, 733, 6)\n",
      "delete rect:  (0, 0, 5, 902)\n",
      "141  rects last.\n",
      "#---- Pre-Sift Rects by Size ----#\n"
     ]
    }
   ],
   "source": [
    "'''\n",
    "Remove rects which have too long width or height.\n",
    "'''\n",
    "print('#---- Pre-Sift Rects by Size ----#')\n",
    "def siftBySize(rect):\n",
    "    if rect[2] > img_w / 4 or rect[3] > img_h / 4:\n",
    "        print('delete rect: ', rect)\n",
    "        return False\n",
    "    else:\n",
    "        return True\n",
    "    \n",
    "rects = list(filter(siftBySize, rects))\n",
    "print(len(rects), ' rects last.')\n",
    "print('#---- Pre-Sift Rects by Size ----#')\n",
    "\n",
    "def save_drawn_rects(img, rects, name='rect'):\n",
    "    for idx, rect in enumerate(rects):\n",
    "            cv2.rectangle(img, (rect[0], rect[1]), (rect[0] + rect[2], rect[1] + rect[3]), 130, 3)\n",
    "\n",
    "    cv2.imwrite('inter/' + name + '.jpg', img)"
   ]
  },
  {
   "cell_type": "markdown",
   "metadata": {},
   "source": [
    "## Line Cluster"
   ]
  },
  {
   "cell_type": "code",
   "execution_count": 5,
   "metadata": {
    "ExecuteTime": {
     "end_time": "2018-07-21T03:12:25.878675Z",
     "start_time": "2018-07-21T03:12:25.619363Z"
    }
   },
   "outputs": [
    {
     "data": {
      "text/plain": [
       "(array([  2.,   0.,   3.,   6.,   0.,  11.,   0.,   3.,  18.,   0.,  11.,\n",
       "         12.,   3.,  24.,   1.,   2.,   8.,  14.,   1.,  22.]),\n",
       " array([    0. ,   116.5,   233. ,   349.5,   466. ,   582.5,   699. ,\n",
       "          815.5,   932. ,  1048.5,  1165. ,  1281.5,  1398. ,  1514.5,\n",
       "         1631. ,  1747.5,  1864. ,  1980.5,  2097. ,  2213.5,  2330. ]),\n",
       " <a list of 20 Patch objects>)"
      ]
     },
     "execution_count": 5,
     "metadata": {},
     "output_type": "execute_result"
    },
    {
     "name": "stderr",
     "output_type": "stream",
     "text": [
      "/usr/local/anaconda3/lib/python3.6/site-packages/matplotlib/figure.py:2267: UserWarning: This figure includes Axes that are not compatible with tight_layout, so results might be incorrect.\n",
      "  warnings.warn(\"This figure includes Axes that are not compatible \"\n"
     ]
    },
    {
     "data": {
      "image/png": "[encoded data removed]",
      "text/plain": [
       "<Figure size 432x288 with 1 Axes>"
      ]
     },
     "metadata": {},
     "output_type": "display_data"
    }
   ],
   "source": [
    "x_proj = [round(rect[1]+rect[3]//2) for rect in rects]\n",
    "fig, axs = plt.subplots(1, 1, sharey=True, tight_layout=True)\n",
    "axs.hist(x_proj, bins=20)"
   ]
  },
  {
   "cell_type": "code",
   "execution_count": 6,
   "metadata": {
    "ExecuteTime": {
     "end_time": "2018-07-21T03:12:28.377254Z",
     "start_time": "2018-07-21T03:12:28.029966Z"
    },
    "scrolled": true
   },
   "outputs": [
    {
     "name": "stdout",
     "output_type": "stream",
     "text": [
      "#---- Line Cluster & Remove Outliers ----#\n",
      "uni:  [0 1 2 3 4 5 6 7 8]\n",
      "unic:  [23 11  9 25 11 21 24 15  2]\n",
      "labels_of_outlier:  [8]\n",
      "REMOVE  1 : remove outlier in clusters...\n",
      " 139  rects last.\n",
      "--\n",
      "uni:  [0 1 2 3 4 5 6 7 8]\n",
      "unic:  [21 14 15  9 23 25 11 11 10]\n",
      "labels_of_outlier:  []\n",
      "[Finished.]\n",
      "139  rects last.\n",
      "#---- Line Cluster & Remove Outliers ----#\n"
     ]
    }
   ],
   "source": [
    "print('#---- Line Cluster & Remove Outliers ----#')\n",
    "from sklearn.cluster import KMeans\n",
    "\n",
    "def get_cluster_label(rects):\n",
    "    estimator = KMeans(n_clusters=9)\n",
    "    estimator.fit([[rect[1]+rect[3]/2, 0] for rect in rects])\n",
    "    return estimator.labels_\n",
    "\n",
    "labels = get_cluster_label(rects)\n",
    "\n",
    "def get_label_of_outlier(labels):\n",
    "    uni, unic = np.unique(labels, return_counts=True)\n",
    "    print(\"uni: \", uni)\n",
    "    print(\"unic: \", unic)\n",
    "    labels_of_outlier = uni[unic < 4]\n",
    "    print(\"labels_of_outlier: \", labels_of_outlier)\n",
    "    return labels_of_outlier\n",
    "\n",
    "labels_of_outlier = get_label_of_outlier(labels)\n",
    "\n",
    "def is_outlier(idx):\n",
    "    label = labels[idx]\n",
    "    return (labels_of_outlier == label).any()\n",
    "\n",
    "loop = 0\n",
    "while len(labels_of_outlier) != 0:\n",
    "    loop += 1\n",
    "    print('REMOVE ', loop, ': remove outlier in clusters...')\n",
    "    rects = [rect for idx, rect in enumerate(rects) if not is_outlier(idx)]\n",
    "    print('', len(rects), ' rects last.\\n--')\n",
    "    labels = get_cluster_label(rects)\n",
    "    labels_of_outlier = get_label_of_outlier(labels)\n",
    "\n",
    "print('[Finished.]')\n",
    "print(len(rects), ' rects last.')\n",
    "print('#---- Line Cluster & Remove Outliers ----#')"
   ]
  },
  {
   "cell_type": "markdown",
   "metadata": {},
   "source": [
    "## Sort Line"
   ]
  },
  {
   "cell_type": "code",
   "execution_count": 7,
   "metadata": {
    "ExecuteTime": {
     "end_time": "2018-07-21T03:12:30.797117Z",
     "start_time": "2018-07-21T03:12:30.788827Z"
    }
   },
   "outputs": [
    {
     "data": {
      "text/plain": [
       "array([4, 4, 4, 4, 4, 4, 4, 4, 4, 4, 4, 4, 4, 4, 4, 4, 4, 4, 4, 4, 4, 4, 4,\n",
       "       1, 1, 1, 1, 1, 1, 1, 1, 1, 1, 1, 1, 1, 1, 8, 8, 8, 8, 8, 8, 8, 8, 8,\n",
       "       8, 5, 5, 5, 5, 5, 5, 5, 5, 5, 5, 5, 5, 5, 5, 5, 5, 5, 5, 5, 5, 5, 5,\n",
       "       5, 5, 5, 2, 2, 2, 2, 2, 2, 2, 2, 2, 2, 2, 2, 2, 2, 2, 7, 7, 7, 7, 7,\n",
       "       7, 7, 7, 7, 7, 7, 0, 0, 0, 0, 0, 0, 0, 0, 0, 0, 0, 0, 0, 0, 0, 0, 0,\n",
       "       0, 0, 0, 0, 6, 6, 6, 6, 6, 6, 6, 6, 6, 6, 6, 3, 3, 3, 3, 3, 3, 3, 3,\n",
       "       3], dtype=int32)"
      ]
     },
     "execution_count": 7,
     "metadata": {},
     "output_type": "execute_result"
    }
   ],
   "source": [
    "labels"
   ]
  },
  {
   "cell_type": "code",
   "execution_count": 8,
   "metadata": {
    "ExecuteTime": {
     "end_time": "2018-07-21T03:12:33.165749Z",
     "start_time": "2018-07-21T03:12:33.154395Z"
    }
   },
   "outputs": [
    {
     "name": "stdout",
     "output_type": "stream",
     "text": [
      "#---- Sort Lines ----#\n",
      "lines_in_label:  [3, 6, 0, 7, 2, 5, 8, 1, 4]\n",
      "Sort line 0\n",
      "Sort line 1\n",
      "Sort line 2\n",
      "Sort line 3\n",
      "Sort line 4\n",
      "Sort line 5\n",
      "Sort line 6\n",
      "Sort line 7\n",
      "Sort line 8\n",
      "#---- Sort Lines ----#\n"
     ]
    }
   ],
   "source": [
    "print('#---- Sort Lines ----#')\n",
    "\n",
    "uni = np.unique(labels)\n",
    "idxes = np.unique(labels, return_index=True)[1]\n",
    "lines_in_label = [labels[idx] for idx in sorted(idxes, reverse=True)]\n",
    "print('lines_in_label: ', lines_in_label)\n",
    "\n",
    "rects_in_line = []\n",
    "rects_ = np.asarray(rects)\n",
    "for i in range(9):\n",
    "    print('Sort line', i)\n",
    "    line = sorted(rects_[labels == lines_in_label[i]], key=lambda item: item[0])\n",
    "    rects_in_line.append(line)\n",
    "    \n",
    "print('#---- Sort Lines ----#')"
   ]
  },
  {
   "cell_type": "markdown",
   "metadata": {},
   "source": [
    "## Digit Cluster"
   ]
  },
  {
   "cell_type": "code",
   "execution_count": 34,
   "metadata": {
    "ExecuteTime": {
     "end_time": "2018-07-21T03:31:29.882353Z",
     "start_time": "2018-07-21T03:31:29.871509Z"
    }
   },
   "outputs": [],
   "source": [
    "def digit_cluster(rects_in_line, line_num):\n",
    "    line = rects_in_line[line_num]\n",
    "    print('--- Clustering line', line_num, '...')\n",
    "    print(line)\n",
    "    n_in_line = [8, 11, 18, 8, 11, 18, 8, 11, 18]\n",
    "\n",
    "    def get_digit_cluster_label(rects, n):\n",
    "        estimator = KMeans(n_clusters=n)\n",
    "        estimator.fit([[rect[0]+rect[2]/2, 0] for rect in rects])\n",
    "        return estimator.labels_\n",
    "    \n",
    "    labels = get_digit_cluster_label(line, n_in_line[line_num])\n",
    "    print('labels: ', labels)\n",
    "\n",
    "    def get_label_of_overlayed(labels):\n",
    "        uni, unic = np.unique(labels, return_counts=True)\n",
    "        print(\"uni: \", uni)\n",
    "        print(\"unic: \", unic)\n",
    "        labels_of_overlayed = uni[unic > 1]\n",
    "        print(\"labels_of_overlayed: \", labels_of_overlayed)\n",
    "        return labels_of_overlayed\n",
    "\n",
    "    labels_of_overlayed = get_label_of_overlayed(labels)\n",
    "    print('labels_of_overlayed: ', labels_of_overlayed)\n",
    "\n",
    "    def is_overlayed(idx):\n",
    "        label = labels[idx]\n",
    "        return (labels_of_overlayed == label).any()\n",
    "\n",
    "    def merge_rects(rects):\n",
    "        x = min([rect[0] for rect in rects])\n",
    "        y = min([rect[1] for rect in rects])\n",
    "        w = max([rect[0] - x + rect[2] for rect in rects])\n",
    "        h = max([rect[1] - y + rect[3] for rect in rects])\n",
    "        return np.asarray([x, y, w, h])\n",
    "    \n",
    "    \n",
    "    print('Merge Rects...')\n",
    "    '''\n",
    "    Two Methods of merging\n",
    "    '''\n",
    "\n",
    "    # No.1 Naive 1 Round\n",
    "    print('[Naive 1 Round Mergeing]')\n",
    "    new_rects = []\n",
    "    for label in labels_of_overlayed:\n",
    "        print('- Merging rect with label', label, '...')\n",
    "        overlayeds = np.asarray(line)[labels == label]\n",
    "        print('Merge:')\n",
    "        print(overlayeds)\n",
    "        print('into:')\n",
    "        new_rect = merge_rects(overlayeds)\n",
    "        print(new_rect)\n",
    "        new_rects.append(new_rect)\n",
    "    line = [rect for idx, rect in enumerate(line) if not is_overlayed(idx)]\n",
    "    line = line + new_rects\n",
    "    line.sort(key=lambda item: item[0])\n",
    "\n",
    "\n",
    "    # No.2 Iteration\n",
    "    # loop = 0\n",
    "    # while len(labels_of_overlayed) != 0:\n",
    "    #     loop += 1\n",
    "    #     print('### REMOVE ', loop, ': merging digits...')\n",
    "\n",
    "\n",
    "    #     print('### ', len(line), ' rects last.')\n",
    "    #     labels = get_cluster_label(rects)\n",
    "    #     labels_of_outlier = get_label_of_outlier(labels)\n",
    "\n",
    "    # print('######## Finished.')\n",
    "    \n",
    "    print('Line', line_num, ' clustered.')\n",
    "    print(line)\n",
    "    return line"
   ]
  },
  {
   "cell_type": "code",
   "execution_count": 40,
   "metadata": {
    "ExecuteTime": {
     "end_time": "2018-07-21T03:52:27.424618Z",
     "start_time": "2018-07-21T03:52:26.499324Z"
    }
   },
   "outputs": [
    {
     "name": "stdout",
     "output_type": "stream",
     "text": [
      "#---- Digit Cluster ----#\n",
      "--- Clustering line 0 ...\n",
      "[array([330, 340,  12,  42]), array([341, 272,  14,  67]), array([458, 289,  64,  93]), array([603, 294,  59, 106]), array([751, 299,  75, 111]), array([959, 317,  14,  93]), array([1108,  318,   61,   79]), array([1292,  326,   61,   78]), array([1452,  307,   59,  173])]\n",
      "labels:  [0 0 7 5 3 2 4 1 6]\n",
      "uni:  [0 1 2 3 4 5 6 7]\n",
      "unic:  [2 1 1 1 1 1 1 1]\n",
      "labels_of_overlayed:  [0]\n",
      "labels_of_overlayed:  [0]\n",
      "Merge Rects...\n",
      "[Naive 1 Round Mergeing]\n",
      "- Merging rect with label 0 ...\n",
      "Merge:\n",
      "[[330 340  12  42]\n",
      " [341 272  14  67]]\n",
      "into:\n",
      "[330 272  25 110]\n",
      "Line 0  clustered.\n",
      "[array([330, 272,  25, 110]), array([458, 289,  64,  93]), array([603, 294,  59, 106]), array([751, 299,  75, 111]), array([959, 317,  14,  93]), array([1108,  318,   61,   79]), array([1292,  326,   61,   78]), array([1452,  307,   59,  173])]\n",
      "--- Clustering line 1 ...\n",
      "[array([295, 604,  21, 108]), array([409, 625,  73,  85]), array([565, 641,  67,  78]), array([695, 655,  70,  63]), array([833, 639,  15,  80]), array([926, 636,   9,  87]), array([1017,  638,   10,   82]), array([1136,  626,   48,   94]), array([1266,  637,   68,   86]), array([1410,  639,   42,   77]), array([1529,  641,   83,   90])]\n",
      "labels:  [ 5  1  7  3 10  9  0  6  8  2  4]\n",
      "uni:  [ 0  1  2  3  4  5  6  7  8  9 10]\n",
      "unic:  [1 1 1 1 1 1 1 1 1 1 1]\n",
      "labels_of_overlayed:  []\n",
      "labels_of_overlayed:  []\n",
      "Merge Rects...\n",
      "[Naive 1 Round Mergeing]\n",
      "Line 1  clustered.\n",
      "[array([295, 604,  21, 108]), array([409, 625,  73,  85]), array([565, 641,  67,  78]), array([695, 655,  70,  63]), array([833, 639,  15,  80]), array([926, 636,   9,  87]), array([1017,  638,   10,   82]), array([1136,  626,   48,   94]), array([1266,  637,   68,   86]), array([1410,  639,   42,   77]), array([1529,  641,   83,   90])]\n",
      "--- Clustering line 2 ...\n",
      "[array([  0, 926,   2,   9]), array([  0, 912,   2,   5]), array([267, 872,  59, 103]), array([379, 898,  59,  80]), array([509, 909,  13,  73]), array([602, 901,  43,  78]), array([702, 916,  30,  45]), array([799, 899,   9,  90]), array([888, 907,  10,  80]), array([951, 899,  41,  86]), array([1067,  895,   38,   82]), array([1163,  900,   43,  100]), array([1261,  921,   38,   46]), array([1342,  908,   29,   86]), array([1411,  928,   36,   51]), array([1486,  923,   45,   68]), array([1593,  933,   38,   51]), array([1662,  937,   48,   64]), array([1711,  944,   12,    3]), array([1773,  932,   47,   70]), array([1890,  936,   10,   85])]\n",
      "labels:  [ 5  5  1  9  8  3 15 14  6 16  0 11 17  4  4 13  2 10 10  7 12]\n",
      "uni:  [ 0  1  2  3  4  5  6  7  8  9 10 11 12 13 14 15 16 17]\n",
      "unic:  [1 1 1 1 2 2 1 1 1 1 2 1 1 1 1 1 1 1]\n",
      "labels_of_overlayed:  [ 4  5 10]\n",
      "labels_of_overlayed:  [ 4  5 10]\n",
      "Merge Rects...\n",
      "[Naive 1 Round Mergeing]\n",
      "- Merging rect with label 4 ...\n",
      "Merge:\n",
      "[[1342  908   29   86]\n",
      " [1411  928   36   51]]\n",
      "into:\n",
      "[1342  908  105   86]\n",
      "- Merging rect with label 5 ...\n",
      "Merge:\n",
      "[[  0 926   2   9]\n",
      " [  0 912   2   5]]\n",
      "into:\n",
      "[  0 912   2  23]\n",
      "- Merging rect with label 10 ...\n",
      "Merge:\n",
      "[[1662  937   48   64]\n",
      " [1711  944   12    3]]\n",
      "into:\n",
      "[1662  937   61   64]\n",
      "Line 2  clustered.\n",
      "[array([  0, 912,   2,  23]), array([267, 872,  59, 103]), array([379, 898,  59,  80]), array([509, 909,  13,  73]), array([602, 901,  43,  78]), array([702, 916,  30,  45]), array([799, 899,   9,  90]), array([888, 907,  10,  80]), array([951, 899,  41,  86]), array([1067,  895,   38,   82]), array([1163,  900,   43,  100]), array([1261,  921,   38,   46]), array([1342,  908,  105,   86]), array([1486,  923,   45,   68]), array([1593,  933,   38,   51]), array([1662,  937,   61,   64]), array([1773,  932,   47,   70]), array([1890,  936,   10,   85])]\n",
      "--- Clustering line 3 ...\n",
      "[array([ 274, 1135,   14,   96]), array([ 351, 1153,   48,   72]), array([ 384, 1167,    6,    2]), array([ 391, 1165,   18,    4]), array([ 468, 1164,   40,   66]), array([ 550, 1170,   41,   67]), array([ 656, 1169,   17,   75]), array([ 705, 1181,   44,   49]), array([ 718, 1179,   15,    4]), array([ 810, 1181,   40,   51]), array([ 898, 1149,   35,  144])]\n",
      "labels:  [4 2 2 2 6 0 7 3 3 5 1]\n",
      "uni:  [0 1 2 3 4 5 6 7]\n",
      "unic:  [1 1 3 2 1 1 1 1]\n",
      "labels_of_overlayed:  [2 3]\n",
      "labels_of_overlayed:  [2 3]\n",
      "Merge Rects...\n",
      "[Naive 1 Round Mergeing]\n",
      "- Merging rect with label 2 ...\n",
      "Merge:\n",
      "[[ 351 1153   48   72]\n",
      " [ 384 1167    6    2]\n",
      " [ 391 1165   18    4]]\n",
      "into:\n",
      "[ 351 1153   58   72]\n",
      "- Merging rect with label 3 ...\n",
      "Merge:\n",
      "[[ 705 1181   44   49]\n",
      " [ 718 1179   15    4]]\n",
      "into:\n",
      "[ 705 1179   44   51]\n",
      "Line 3  clustered.\n",
      "[array([ 274, 1135,   14,   96]), array([ 351, 1153,   58,   72]), array([ 468, 1164,   40,   66]), array([ 550, 1170,   41,   67]), array([ 656, 1169,   17,   75]), array([ 705, 1179,   44,   51]), array([ 810, 1181,   40,   51]), array([ 898, 1149,   35,  144])]\n",
      "--- Clustering line 4 ...\n",
      "[array([ 265, 1316,   16,   75]), array([ 359, 1330,   41,   63]), array([ 453, 1337,   61,   65]), array([ 569, 1354,   48,   56]), array([ 676, 1352,   13,   62]), array([ 755, 1351,   10,   65]), array([ 857, 1348,   11,   71]), array([ 963, 1352,   44,   95]), array([1062, 1366,   58,   72]), array([1196, 1364,   37,   67]), array([1222, 1365,    6,    7]), array([1313, 1360,   63,   51]), array([1344, 1413,    7,   33]), array([1357, 1375,    4,   10]), array([1360, 1369,    1,    3])]\n",
      "labels:  [ 5  3  8  1 10  4  9  7  0  6  6  2  2  2  2]\n",
      "uni:  [ 0  1  2  3  4  5  6  7  8  9 10]\n",
      "unic:  [1 1 4 1 1 1 2 1 1 1 1]\n",
      "labels_of_overlayed:  [2 6]\n",
      "labels_of_overlayed:  [2 6]\n",
      "Merge Rects...\n",
      "[Naive 1 Round Mergeing]\n",
      "- Merging rect with label 2 ...\n",
      "Merge:\n",
      "[[1313 1360   63   51]\n",
      " [1344 1413    7   33]\n",
      " [1357 1375    4   10]\n",
      " [1360 1369    1    3]]\n",
      "into:\n",
      "[1313 1360   63   86]\n",
      "- Merging rect with label 6 ...\n",
      "Merge:\n",
      "[[1196 1364   37   67]\n",
      " [1222 1365    6    7]]\n",
      "into:\n",
      "[1196 1364   37   67]\n",
      "Line 4  clustered.\n",
      "[array([ 265, 1316,   16,   75]), array([ 359, 1330,   41,   63]), array([ 453, 1337,   61,   65]), array([ 569, 1354,   48,   56]), array([ 676, 1352,   13,   62]), array([ 755, 1351,   10,   65]), array([ 857, 1348,   11,   71]), array([ 963, 1352,   44,   95]), array([1062, 1366,   58,   72]), array([1196, 1364,   37,   67]), array([1313, 1360,   63,   86])]\n",
      "--- Clustering line 5 ...\n",
      "[array([ 173, 1513,   41,   75]), array([ 261, 1529,   54,   61]), array([ 378, 1532,   12,   63]), array([ 455, 1532,   42,   74]), array([ 563, 1552,   31,   43]), array([ 654, 1536,   10,   74]), array([ 727, 1532,   12,   88]), array([ 787, 1527,   43,   90]), array([ 808, 1525,   16,   11]), array([ 872, 1538,   45,   88]), array([ 873, 1534,   24,   16]), array([ 966, 1534,   33,   94]), array([1069, 1564,   35,   42]), array([1176, 1543,   28,   81]), array([1265, 1569,   35,   44]), array([1318, 1612,    6,   13]), array([1325, 1586,   38,   44]), array([1339, 1568,    7,   17]), array([1364, 1575,    9,    3]), array([1431, 1583,   34,   44]), array([1503, 1580,   31,   61]), array([1534, 1586,   17,    4]), array([1607, 1581,   50,   74]), array([1746, 1627,   12,   54]), array([1756, 1579,   13,   47])]\n",
      "labels:  [ 3 14  7 12  1  8 15  9  9  2  2 13 10  4 17  6  6  6  6 16  0  0 11  5  5]\n",
      "uni:  [ 0  1  2  3  4  5  6  7  8  9 10 11 12 13 14 15 16 17]\n",
      "unic:  [2 1 2 1 1 2 4 1 1 2 1 1 1 1 1 1 1 1]\n",
      "labels_of_overlayed:  [0 2 5 6 9]\n",
      "labels_of_overlayed:  [0 2 5 6 9]\n",
      "Merge Rects...\n",
      "[Naive 1 Round Mergeing]\n",
      "- Merging rect with label 0 ...\n",
      "Merge:\n",
      "[[1503 1580   31   61]\n",
      " [1534 1586   17    4]]\n",
      "into:\n",
      "[1503 1580   48   61]\n",
      "- Merging rect with label 2 ...\n",
      "Merge:\n",
      "[[ 872 1538   45   88]\n",
      " [ 873 1534   24   16]]\n",
      "into:\n",
      "[ 872 1534   45   92]\n",
      "- Merging rect with label 5 ...\n",
      "Merge:\n",
      "[[1746 1627   12   54]\n",
      " [1756 1579   13   47]]\n",
      "into:\n",
      "[1746 1579   23  102]\n",
      "- Merging rect with label 6 ...\n",
      "Merge:\n",
      "[[1318 1612    6   13]\n",
      " [1325 1586   38   44]\n",
      " [1339 1568    7   17]\n",
      " [1364 1575    9    3]]\n",
      "into:\n",
      "[1318 1568   55   62]\n",
      "- Merging rect with label 9 ...\n",
      "Merge:\n",
      "[[ 787 1527   43   90]\n",
      " [ 808 1525   16   11]]\n",
      "into:\n",
      "[ 787 1525   43   92]\n",
      "Line 5  clustered.\n",
      "[array([ 173, 1513,   41,   75]), array([ 261, 1529,   54,   61]), array([ 378, 1532,   12,   63]), array([ 455, 1532,   42,   74]), array([ 563, 1552,   31,   43]), array([ 654, 1536,   10,   74]), array([ 727, 1532,   12,   88]), array([ 787, 1525,   43,   92]), array([ 872, 1534,   45,   92]), array([ 966, 1534,   33,   94]), array([1069, 1564,   35,   42]), array([1176, 1543,   28,   81]), array([1265, 1569,   35,   44]), array([1318, 1568,   55,   62]), array([1431, 1583,   34,   44]), array([1503, 1580,   48,   61]), array([1607, 1581,   50,   74]), array([1746, 1579,   23,  102])]\n",
      "--- Clustering line 6 ...\n",
      "[array([ 257, 1822,   15,   81]), array([ 270, 1813,    3,    8]), array([ 371, 1829,   60,   79]), array([ 514, 1902,   11,    9]), array([ 523, 1840,   37,   71]), array([ 651, 1845,   48,   75]), array([ 798, 1850,   18,   77]), array([ 886, 1860,   43,   57]), array([1014, 1862,   47,   56]), array([1135, 1843,   45,  120])]\n"
     ]
    },
    {
     "name": "stdout",
     "output_type": "stream",
     "text": [
      "labels:  [3 3 0 4 4 5 2 7 1 6]\n",
      "uni:  [0 1 2 3 4 5 6 7]\n",
      "unic:  [1 1 1 2 2 1 1 1]\n",
      "labels_of_overlayed:  [3 4]\n",
      "labels_of_overlayed:  [3 4]\n",
      "Merge Rects...\n",
      "[Naive 1 Round Mergeing]\n",
      "- Merging rect with label 3 ...\n",
      "Merge:\n",
      "[[ 257 1822   15   81]\n",
      " [ 270 1813    3    8]]\n",
      "into:\n",
      "[ 257 1813   16   90]\n",
      "- Merging rect with label 4 ...\n",
      "Merge:\n",
      "[[ 514 1902   11    9]\n",
      " [ 523 1840   37   71]]\n",
      "into:\n",
      "[ 514 1840   46   71]\n",
      "Line 6  clustered.\n",
      "[array([ 257, 1813,   16,   90]), array([ 371, 1829,   60,   79]), array([ 514, 1840,   46,   71]), array([ 651, 1845,   48,   75]), array([ 798, 1850,   18,   77]), array([ 886, 1860,   43,   57]), array([1014, 1862,   47,   56]), array([1135, 1843,   45,  120])]\n",
      "--- Clustering line 7 ...\n",
      "[array([ 252, 1993,   18,   77]), array([ 357, 2069,   19,   12]), array([ 366, 2008,   41,   73]), array([ 395, 2012,   31,    6]), array([ 483, 2015,   70,   68]), array([ 630, 2028,   44,   43]), array([ 753, 2020,   16,   64]), array([ 863, 2018,   20,   64]), array([ 981, 2016,   19,   66]), array([1121, 2006,   36,   86]), array([1244, 2014,   45,   77]), array([1383, 2025,   34,   60]), array([1406, 2027,   10,   10]), array([1447, 2026,   55,   97])]\n",
      "labels:  [ 9  4  4  4  1  6  5  3  8  2  7 10 10  0]\n",
      "uni:  [ 0  1  2  3  4  5  6  7  8  9 10]\n",
      "unic:  [1 1 1 1 3 1 1 1 1 1 2]\n",
      "labels_of_overlayed:  [ 4 10]\n",
      "labels_of_overlayed:  [ 4 10]\n",
      "Merge Rects...\n",
      "[Naive 1 Round Mergeing]\n",
      "- Merging rect with label 4 ...\n",
      "Merge:\n",
      "[[ 357 2069   19   12]\n",
      " [ 366 2008   41   73]\n",
      " [ 395 2012   31    6]]\n",
      "into:\n",
      "[ 357 2008   69   73]\n",
      "- Merging rect with label 10 ...\n",
      "Merge:\n",
      "[[1383 2025   34   60]\n",
      " [1406 2027   10   10]]\n",
      "into:\n",
      "[1383 2025   34   60]\n",
      "Line 7  clustered.\n",
      "[array([ 252, 1993,   18,   77]), array([ 357, 2008,   69,   73]), array([ 483, 2015,   70,   68]), array([ 630, 2028,   44,   43]), array([ 753, 2020,   16,   64]), array([ 863, 2018,   20,   64]), array([ 981, 2016,   19,   66]), array([1121, 2006,   36,   86]), array([1244, 2014,   45,   77]), array([1383, 2025,   34,   60]), array([1447, 2026,   55,   97])]\n",
      "--- Clustering line 8 ...\n",
      "[array([ 144, 2182,   58,   78]), array([ 246, 2244,   15,   14]), array([ 257, 2194,   35,   64]), array([ 275, 2198,   17,    4]), array([ 358, 2199,   16,   65]), array([ 431, 2202,   41,   67]), array([ 545, 2208,   35,   47]), array([ 652, 2191,   16,  101]), array([ 786, 2205,    9,   75]), array([ 879, 2197,   37,   79]), array([ 992, 2190,   35,   79]), array([1065, 2194,   37,   97]), array([1171, 2220,   42,   46]), array([1288, 2209,   38,   81]), array([1388, 2233,   38,   47]), array([1480, 2229,   46,   64]), array([1521, 2233,    9,    4]), array([1592, 2240,   36,   47]), array([1622, 2243,    5,    5]), array([1677, 2242,   47,   62]), array([1776, 2247,   48,   62]), array([1886, 2311,    9,   39]), array([1895, 2238,   15,   64])]\n",
      "labels:  [ 5  8  8  8  0 15  6 16 12  2  9 17  4 10 13  1  1  7  7 11 14  3  3]\n",
      "uni:  [ 0  1  2  3  4  5  6  7  8  9 10 11 12 13 14 15 16 17]\n",
      "unic:  [1 2 1 2 1 1 1 2 3 1 1 1 1 1 1 1 1 1]\n",
      "labels_of_overlayed:  [1 3 7 8]\n",
      "labels_of_overlayed:  [1 3 7 8]\n",
      "Merge Rects...\n",
      "[Naive 1 Round Mergeing]\n",
      "- Merging rect with label 1 ...\n",
      "Merge:\n",
      "[[1480 2229   46   64]\n",
      " [1521 2233    9    4]]\n",
      "into:\n",
      "[1480 2229   50   64]\n",
      "- Merging rect with label 3 ...\n",
      "Merge:\n",
      "[[1886 2311    9   39]\n",
      " [1895 2238   15   64]]\n",
      "into:\n",
      "[1886 2238   24  112]\n",
      "- Merging rect with label 7 ...\n",
      "Merge:\n",
      "[[1592 2240   36   47]\n",
      " [1622 2243    5    5]]\n",
      "into:\n",
      "[1592 2240   36   47]\n",
      "- Merging rect with label 8 ...\n",
      "Merge:\n",
      "[[ 246 2244   15   14]\n",
      " [ 257 2194   35   64]\n",
      " [ 275 2198   17    4]]\n",
      "into:\n",
      "[ 246 2194   46   64]\n",
      "Line 8  clustered.\n",
      "[array([ 144, 2182,   58,   78]), array([ 246, 2194,   46,   64]), array([ 358, 2199,   16,   65]), array([ 431, 2202,   41,   67]), array([ 545, 2208,   35,   47]), array([ 652, 2191,   16,  101]), array([ 786, 2205,    9,   75]), array([ 879, 2197,   37,   79]), array([ 992, 2190,   35,   79]), array([1065, 2194,   37,   97]), array([1171, 2220,   42,   46]), array([1288, 2209,   38,   81]), array([1388, 2233,   38,   47]), array([1480, 2229,   50,   64]), array([1592, 2240,   36,   47]), array([1677, 2242,   47,   62]), array([1776, 2247,   48,   62]), array([1886, 2238,   24,  112])]\n",
      "#---- Digit Cluster ----#\n"
     ]
    }
   ],
   "source": [
    "print('#---- Digit Cluster ----#')\n",
    "lines = []\n",
    "for line_num in range(9):\n",
    "    new_line = digit_cluster(rects_in_line, line_num)\n",
    "    save_drawn_rects(src_img.copy(), new_line, 'line' + str(line_num))\n",
    "    lines.append(new_line)\n",
    "print('#---- Digit Cluster ----#')"
   ]
  },
  {
   "cell_type": "code",
   "execution_count": 44,
   "metadata": {
    "ExecuteTime": {
     "end_time": "2018-07-21T04:21:36.317067Z",
     "start_time": "2018-07-21T04:21:36.121016Z"
    }
   },
   "outputs": [
    {
     "name": "stdout",
     "output_type": "stream",
     "text": [
      "--- Clustering line 2 ...\n",
      "[array([  0, 926,   2,   9]), array([  0, 912,   2,   5]), array([267, 872,  59, 103]), array([379, 898,  59,  80]), array([509, 909,  13,  73]), array([602, 901,  43,  78]), array([702, 916,  30,  45]), array([799, 899,   9,  90]), array([888, 907,  10,  80]), array([951, 899,  41,  86]), array([1067,  895,   38,   82]), array([1163,  900,   43,  100]), array([1261,  921,   38,   46]), array([1342,  908,   29,   86]), array([1411,  928,   36,   51]), array([1486,  923,   45,   68]), array([1593,  933,   38,   51]), array([1662,  937,   48,   64]), array([1711,  944,   12,    3]), array([1773,  932,   47,   70]), array([1890,  936,   10,   85])]\n",
      "labels:  [ 4  4 10  1 11  9  2 15 17  7 14  5 16  3  3 13  0 12 12  8  6]\n",
      "uni:  [ 0  1  2  3  4  5  6  7  8  9 10 11 12 13 14 15 16 17]\n",
      "unic:  [1 1 1 2 2 1 1 1 1 1 1 1 2 1 1 1 1 1]\n",
      "labels_of_overlayed:  [ 3  4 12]\n",
      "labels_of_overlayed:  [ 3  4 12]\n",
      "Merge Rects...\n",
      "[Naive 1 Round Mergeing]\n",
      "- Merging rect with label 3 ...\n",
      "Merge:\n",
      "[[1342  908   29   86]\n",
      " [1411  928   36   51]]\n",
      "into:\n",
      "[1342  908  105   86]\n",
      "- Merging rect with label 4 ...\n",
      "Merge:\n",
      "[[  0 926   2   9]\n",
      " [  0 912   2   5]]\n",
      "into:\n",
      "[  0 912   2  23]\n",
      "- Merging rect with label 12 ...\n",
      "Merge:\n",
      "[[1662  937   48   64]\n",
      " [1711  944   12    3]]\n",
      "into:\n",
      "[1662  937   61   64]\n",
      "Line 2  clustered.\n",
      "[array([  0, 912,   2,  23]), array([267, 872,  59, 103]), array([379, 898,  59,  80]), array([509, 909,  13,  73]), array([602, 901,  43,  78]), array([702, 916,  30,  45]), array([799, 899,   9,  90]), array([888, 907,  10,  80]), array([951, 899,  41,  86]), array([1067,  895,   38,   82]), array([1163,  900,   43,  100]), array([1261,  921,   38,   46]), array([1342,  908,  105,   86]), array([1486,  923,   45,   68]), array([1593,  933,   38,   51]), array([1662,  937,   61,   64]), array([1773,  932,   47,   70]), array([1890,  936,   10,   85])]\n"
     ]
    }
   ],
   "source": [
    "new_line = digit_cluster(rects_in_line, 2)\n",
    "save_drawn_rects(src_img.copy(), new_line, 'line' + str(2))"
   ]
  },
  {
   "cell_type": "markdown",
   "metadata": {},
   "source": [
    "# Test"
   ]
  },
  {
   "cell_type": "code",
   "execution_count": 79,
   "metadata": {
    "ExecuteTime": {
     "end_time": "2018-07-20T21:49:43.023249Z",
     "start_time": "2018-07-20T21:49:42.929760Z"
    }
   },
   "outputs": [
    {
     "name": "stdout",
     "output_type": "stream",
     "text": [
      "predict:  [1]\n",
      "predict:  [5]\n",
      "predict:  [3]\n",
      "predict:  [3]\n",
      "predict:  [1]\n",
      "predict:  [0]\n",
      "predict:  [0]\n",
      "predict:  [7]\n"
     ]
    },
    {
     "name": "stderr",
     "output_type": "stream",
     "text": [
      "/usr/local/anaconda3/lib/python3.6/site-packages/skimage/feature/_hog.py:150: skimage_deprecation: Default value of `block_norm`==`L1` is deprecated and will be changed to `L2-Hys` in v0.15. To supress this message specify explicitly the normalization method.\n",
      "  skimage_deprecation)\n",
      "/usr/local/anaconda3/lib/python3.6/site-packages/skimage/feature/_hog.py:248: skimage_deprecation: Argument `visualise` is deprecated and will be changed to `visualize` in v0.16\n",
      "  'be changed to `visualize` in v0.16', skimage_deprecation)\n"
     ]
    },
    {
     "data": {
      "text/plain": [
       "True"
      ]
     },
     "execution_count": 79,
     "metadata": {},
     "output_type": "execute_result"
    }
   ],
   "source": [
    "# Load the classifier\n",
    "clf = joblib.load(\"model/digits_cls.pkl\")\n",
    "\n",
    "num_img = src_img.copy()\n",
    "# For each rectangular region, calculate HOG features and predict\n",
    "# the digit using Linear SVM.\n",
    "for rect in line:\n",
    "    # Make the rec tangular region around the digit\n",
    "    leng = int(rect[3] * 1.6)\n",
    "    pt1 = int(rect[1] + rect[3] // 2 - leng // 2)\n",
    "    pt2 = int(rect[0] + rect[2] // 2 - leng // 2)\n",
    "    roi = th_img[pt1:pt1+leng, pt2:pt2+leng]\n",
    "#     rois.append(roi)\n",
    "# for roi in rois:\n",
    "    if roi.size <= 20: continue\n",
    "#     cv2.imwrite('inter/roi-s.jpg', roi)\n",
    "    # Resize the image\n",
    "    roi = cv2.resize(roi, (28, 28), interpolation=cv2.INTER_AREA)\n",
    "#     cv2.imwrite('inter/roi.jpg', roi)\n",
    "    roi = cv2.dilate(roi, (3, 3))\n",
    "#     cv2.imwrite('inter/roi-d.jpg', roi)\n",
    "\n",
    "    # Calculate the HOG features\n",
    "    roi_hog_fd = hog(roi, orientations=9, pixels_per_cell=(14, 14), cells_per_block=(1, 1), visualise=False)\n",
    "    nbr = clf.predict(np.array([roi_hog_fd], 'float64'))\n",
    "#     print('predict: ', nbr)\n",
    "    cv2.putText(num_img, str(int(nbr[0])), (rect[0], rect[1]),cv2.FONT_HERSHEY_DUPLEX, 2, 150, 3)\n",
    "    \n",
    "cv2.imwrite('inter/num.jpg', num_img)"
   ]
  },
  {
   "cell_type": "code",
   "execution_count": 42,
   "metadata": {
    "ExecuteTime": {
     "end_time": "2018-07-21T03:55:23.741479Z",
     "start_time": "2018-07-21T03:55:23.092832Z"
    }
   },
   "outputs": [
    {
     "name": "stderr",
     "output_type": "stream",
     "text": [
      "/usr/local/anaconda3/lib/python3.6/site-packages/skimage/feature/_hog.py:150: skimage_deprecation: Default value of `block_norm`==`L1` is deprecated and will be changed to `L2-Hys` in v0.15. To supress this message specify explicitly the normalization method.\n",
      "  skimage_deprecation)\n",
      "/usr/local/anaconda3/lib/python3.6/site-packages/skimage/feature/_hog.py:248: skimage_deprecation: Argument `visualise` is deprecated and will be changed to `visualize` in v0.16\n",
      "  'be changed to `visualize` in v0.16', skimage_deprecation)\n"
     ]
    }
   ],
   "source": [
    "clf = joblib.load(\"model/digits_cls.pkl\")\n",
    "# def pred_line(line, clf):\n",
    "for idx, line in enumerate(lines):\n",
    "    num_img = src_img.copy()\n",
    "    # For each rectangular region, calculate HOG features and predict\n",
    "    # the digit using Linear SVM.\n",
    "    for rect in line:\n",
    "        # Make the rec tangular region around the digit\n",
    "        leng = int(rect[3] * 1.6)\n",
    "        pt1 = int(rect[1] + rect[3] // 2 - leng // 2)\n",
    "        pt2 = int(rect[0] + rect[2] // 2 - leng // 2)\n",
    "        roi = th_img[pt1:pt1+leng, pt2:pt2+leng]\n",
    "    #     rois.append(roi)\n",
    "    # for roi in rois:\n",
    "        if roi.size <= 20: continue\n",
    "        cv2.imwrite('inter/roi-s.jpg', roi)\n",
    "        # Resize the image\n",
    "        roi = cv2.resize(roi, (28, 28), interpolation=cv2.INTER_AREA)\n",
    "        cv2.imwrite('inter/roi.jpg', roi)\n",
    "        roi = cv2.dilate(roi, (3, 3))\n",
    "        cv2.imwrite('inter/roi-d.jpg', roi)\n",
    "\n",
    "        # Calculate the HOG features\n",
    "        roi_hog_fd = hog(roi, orientations=9, pixels_per_cell=(14, 14), cells_per_block=(1, 1), visualise=False)\n",
    "        nbr = clf.predict(np.array([roi_hog_fd], 'float64'))\n",
    "        # print('predict: ', nbr)\n",
    "        cv2.putText(num_img, str(int(nbr[0])), (rect[0], rect[1]),cv2.FONT_HERSHEY_DUPLEX, 2, 150, 3)\n",
    "\n",
    "    cv2.imwrite('inter/line' + str(idx) + 'pred.jpg', num_img)"
   ]
  },
  {
   "cell_type": "code",
   "execution_count": null,
   "metadata": {},
   "outputs": [],
   "source": []
  }
 ],
 "metadata": {
  "kernelspec": {
   "display_name": "Python 3",
   "language": "python",
   "name": "python3"
  },
  "language_info": {
   "codemirror_mode": {
    "name": "ipython",
    "version": 3
   },
   "file_extension": ".py",
   "mimetype": "text/x-python",
   "name": "python",
   "nbconvert_exporter": "python",
   "pygments_lexer": "ipython3",
   "version": "3.6.5"
  },
  "toc": {
   "base_numbering": 1,
   "nav_menu": {},
   "number_sections": true,
   "sideBar": true,
   "skip_h1_title": false,
   "title_cell": "Table of Contents",
   "title_sidebar": "Contents",
   "toc_cell": false,
   "toc_position": {},
   "toc_section_display": true,
   "toc_window_display": false
  },
  "varInspector": {
   "cols": {
    "lenName": 16,
    "lenType": 16,
    "lenVar": 40
   },
   "kernels_config": {
    "python": {
     "delete_cmd_postfix": "",
     "delete_cmd_prefix": "del ",
     "library": "var_list.py",
     "varRefreshCmd": "print(var_dic_list())"
    },
    "r": {
     "delete_cmd_postfix": ") ",
     "delete_cmd_prefix": "rm(",
     "library": "var_list.r",
     "varRefreshCmd": "cat(var_dic_list()) "
    }
   },
   "types_to_exclude": [
    "module",
    "function",
    "builtin_function_or_method",
    "instance",
    "_Feature"
   ],
   "window_display": false
  }
 },
 "nbformat": 4,
 "nbformat_minor": 2
}
