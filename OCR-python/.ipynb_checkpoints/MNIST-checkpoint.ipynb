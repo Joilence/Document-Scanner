{
 "cells": [
  {
   "cell_type": "code",
   "execution_count": 1,
   "metadata": {
    "ExecuteTime": {
     "end_time": "2018-07-20T20:49:10.133573Z",
     "start_time": "2018-07-20T20:49:08.543952Z"
    }
   },
   "outputs": [],
   "source": [
    "import pickle\n",
    "from sklearn.externals import joblib\n",
    "from sklearn import datasets\n",
    "from skimage.feature import hog\n",
    "from sklearn.svm import LinearSVC\n",
    "import numpy as np\n",
    "from collections import Counter\n",
    "import cv2\n",
    "from skimage.feature import hog\n",
    "from matplotlib import pyplot as plt"
   ]
  },
  {
   "cell_type": "code",
   "execution_count": 2,
   "metadata": {
    "ExecuteTime": {
     "end_time": "2018-07-20T17:32:44.926360Z",
     "start_time": "2018-07-20T17:32:44.906460Z"
    }
   },
   "outputs": [],
   "source": [
    "filename = [\n",
    "[\"training_images\",\"data/train-images-idx3-ubyte\"],\n",
    "[\"test_images\",\"data/t10k-images-idx3-ubyte\"],\n",
    "[\"training_labels\",\"data/train-labels-idx1-ubyte\"],\n",
    "[\"test_labels\",\"data/t10k-labels-idx1-ubyte\"]\n",
    "]\n",
    "\n",
    "def save_mnist():\n",
    "    mnist = {}\n",
    "    for name in filename[:2]:\n",
    "        with open(name[1], 'rb') as f:\n",
    "            mnist[name[0]] = np.frombuffer(f.read(), np.uint8, offset=16).reshape(-1,28*28)\n",
    "    for name in filename[-2:]:\n",
    "        with open(name[1], 'rb') as f:\n",
    "            mnist[name[0]] = np.frombuffer(f.read(), np.uint8, offset=8)\n",
    "    with open(\"data/mnist.pkl\", 'wb') as f:\n",
    "        pickle.dump(mnist,f)\n",
    "    print(\"Save complete.\")\n",
    "\n",
    "def load():\n",
    "    with open(\"data/mnist.pkl\",'rb') as f:\n",
    "        mnist = pickle.load(f)\n",
    "    return mnist[\"training_images\"], mnist[\"training_labels\"], mnist[\"test_images\"], mnist[\"test_labels\"]"
   ]
  },
  {
   "cell_type": "code",
   "execution_count": 2,
   "metadata": {
    "ExecuteTime": {
     "end_time": "2018-07-19T17:31:00.064621Z",
     "start_time": "2018-07-19T17:30:59.765483Z"
    }
   },
   "outputs": [
    {
     "name": "stdout",
     "output_type": "stream",
     "text": [
      "Save complete.\n"
     ]
    }
   ],
   "source": [
    "save_mnist()"
   ]
  },
  {
   "cell_type": "markdown",
   "metadata": {},
   "source": [
    "# Train"
   ]
  },
  {
   "cell_type": "code",
   "execution_count": 3,
   "metadata": {
    "ExecuteTime": {
     "end_time": "2018-07-19T17:53:50.418997Z",
     "start_time": "2018-07-19T17:53:50.224923Z"
    }
   },
   "outputs": [],
   "source": [
    "X_train, y_train, X_test, y_test = load()"
   ]
  },
  {
   "cell_type": "code",
   "execution_count": 5,
   "metadata": {
    "ExecuteTime": {
     "end_time": "2018-07-19T17:54:07.080513Z",
     "start_time": "2018-07-19T17:53:53.186879Z"
    }
   },
   "outputs": [
    {
     "name": "stderr",
     "output_type": "stream",
     "text": [
      "/usr/local/anaconda3/lib/python3.6/site-packages/skimage/feature/_hog.py:150: skimage_deprecation: Default value of `block_norm`==`L1` is deprecated and will be changed to `L2-Hys` in v0.15. To supress this message specify explicitly the normalization method.\n",
      "  skimage_deprecation)\n",
      "/usr/local/anaconda3/lib/python3.6/site-packages/skimage/feature/_hog.py:248: skimage_deprecation: Argument `visualise` is deprecated and will be changed to `visualize` in v0.16\n",
      "  'be changed to `visualize` in v0.16', skimage_deprecation)\n"
     ]
    },
    {
     "name": "stdout",
     "output_type": "stream",
     "text": [
      "Count of digits in dataset Counter({1: 6742, 7: 6265, 3: 6131, 2: 5958, 9: 5949, 0: 5923, 6: 5918, 8: 5851, 4: 5842, 5: 5421})\n"
     ]
    },
    {
     "data": {
      "text/plain": [
       "['digits_cls.pkl']"
      ]
     },
     "execution_count": 5,
     "metadata": {},
     "output_type": "execute_result"
    }
   ],
   "source": [
    "# Extract the hog features\n",
    "features = X_train.copy()\n",
    "labels = y_train.copy()\n",
    "list_hog_fd = []\n",
    "for feature in features:\n",
    "    fd = hog(feature.reshape((28, 28)), orientations=9, pixels_per_cell=(14, 14), cells_per_block=(1, 1), visualise=False)\n",
    "    list_hog_fd.append(fd)\n",
    "hog_features = np.array(list_hog_fd, 'float64')\n",
    "\n",
    "print (\"Count of digits in dataset\", Counter(labels))\n",
    "\n",
    "# Create an linear SVM object\n",
    "clf = LinearSVC()\n",
    "\n",
    "# Perform the training\n",
    "clf.fit(hog_features, labels)\n",
    "\n",
    "# Save the classifier\n",
    "joblib.dump(clf, \"model/digits_cls.pkl\", compress=3)"
   ]
  },
  {
   "cell_type": "markdown",
   "metadata": {},
   "source": [
    "# Preprocessing"
   ]
  },
  {
   "cell_type": "code",
   "execution_count": 2,
   "metadata": {
    "ExecuteTime": {
     "end_time": "2018-07-20T20:49:12.567226Z",
     "start_time": "2018-07-20T20:49:12.507556Z"
    },
    "scrolled": false
   },
   "outputs": [
    {
     "name": "stdout",
     "output_type": "stream",
     "text": [
      "143  rectangle found.\n"
     ]
    }
   ],
   "source": [
    "# Read the input image\n",
    "src_img = cv2.imread(\"data/test/15331009-iter.jpg\", cv2.IMREAD_GRAYSCALE)\n",
    "\n",
    "# Reference para\n",
    "img_h, img_w = src_img.shape\n",
    "\n",
    "blur_img = cv2.GaussianBlur(src_img, (5, 5), 0)\n",
    "\n",
    "\n",
    "# Threshold the image\n",
    "_, th_img = cv2.threshold(blur_img, 90, 255, cv2.THRESH_BINARY_INV)\n",
    "\n",
    "# Find contours in the image\n",
    "_, ctrs, _ = cv2.findContours(th_img.copy(), cv2.RETR_EXTERNAL, cv2.CHAIN_APPROX_SIMPLE)\n",
    "\n",
    "# Get rectangles contains each contour\n",
    "rects = [cv2.boundingRect(ctr) for ctr in ctrs]\n",
    "print(len(rects), ' rectangle found.')"
   ]
  },
  {
   "cell_type": "markdown",
   "metadata": {},
   "source": [
    "## Pre-Sift Rects"
   ]
  },
  {
   "cell_type": "code",
   "execution_count": 3,
   "metadata": {
    "ExecuteTime": {
     "end_time": "2018-07-20T20:49:14.528827Z",
     "start_time": "2018-07-20T20:49:14.522206Z"
    }
   },
   "outputs": [
    {
     "name": "stdout",
     "output_type": "stream",
     "text": [
      "delete rect:  (1342, 0, 733, 6)\n",
      "delete rect:  (0, 0, 5, 902)\n",
      "141  rects last.\n"
     ]
    }
   ],
   "source": [
    "'''\n",
    "Remove rects which have too long width or height.\n",
    "'''\n",
    "def siftBySize(rect):\n",
    "    if rect[2] > img_w / 4 or rect[3] > img_h / 4:\n",
    "        print('delete rect: ', rect)\n",
    "        return False\n",
    "    else:\n",
    "        return True\n",
    "    \n",
    "rects = list(filter(siftBySize, rects))\n",
    "print(len(rects), ' rects last.')"
   ]
  },
  {
   "cell_type": "markdown",
   "metadata": {},
   "source": [
    "## Line Cluster"
   ]
  },
  {
   "cell_type": "code",
   "execution_count": 4,
   "metadata": {
    "ExecuteTime": {
     "end_time": "2018-07-20T20:49:17.458871Z",
     "start_time": "2018-07-20T20:49:17.242543Z"
    }
   },
   "outputs": [
    {
     "data": {
      "text/plain": [
       "(array([  2.,   0.,   3.,   6.,   0.,  11.,   0.,   3.,  18.,   0.,  11.,\n",
       "         12.,   3.,  24.,   1.,   2.,   8.,  14.,   1.,  22.]),\n",
       " array([    0. ,   116.5,   233. ,   349.5,   466. ,   582.5,   699. ,\n",
       "          815.5,   932. ,  1048.5,  1165. ,  1281.5,  1398. ,  1514.5,\n",
       "         1631. ,  1747.5,  1864. ,  1980.5,  2097. ,  2213.5,  2330. ]),\n",
       " <a list of 20 Patch objects>)"
      ]
     },
     "execution_count": 4,
     "metadata": {},
     "output_type": "execute_result"
    },
    {
     "name": "stderr",
     "output_type": "stream",
     "text": [
      "/usr/local/anaconda3/lib/python3.6/site-packages/matplotlib/figure.py:2267: UserWarning: This figure includes Axes that are not compatible with tight_layout, so results might be incorrect.\n",
      "  warnings.warn(\"This figure includes Axes that are not compatible \"\n"
     ]
    },
    {
     "data": {
      "image/png": "[encoded data removed]",
      "text/plain": [
       "<Figure size 432x288 with 1 Axes>"
      ]
     },
     "metadata": {},
     "output_type": "display_data"
    }
   ],
   "source": [
    "x_proj = [round(rect[1]+rect[3]//2) for rect in rects]\n",
    "fig, axs = plt.subplots(1, 1, sharey=True, tight_layout=True)\n",
    "axs.hist(x_proj, bins=20)"
   ]
  },
  {
   "cell_type": "code",
   "execution_count": 5,
   "metadata": {
    "ExecuteTime": {
     "end_time": "2018-07-20T20:49:21.122960Z",
     "start_time": "2018-07-20T20:49:21.010107Z"
    }
   },
   "outputs": [],
   "source": [
    "from sklearn.cluster import KMeans\n",
    "\n",
    "def get_cluster_label(rects):\n",
    "    estimator = KMeans(n_clusters=9)\n",
    "    estimator.fit([[rect[1]+rect[3]/2, 0] for rect in rects])\n",
    "    return estimator.labels_"
   ]
  },
  {
   "cell_type": "code",
   "execution_count": 6,
   "metadata": {
    "ExecuteTime": {
     "end_time": "2018-07-20T20:49:22.427392Z",
     "start_time": "2018-07-20T20:49:22.359852Z"
    },
    "scrolled": true
   },
   "outputs": [
    {
     "name": "stdout",
     "output_type": "stream",
     "text": [
      "uni:  [0 1 2 3 4 5 6 7 8]\n",
      "unic:  [15 24  9 21 25 23 11 11  2]\n",
      "labels_of_outlier:  [8]\n",
      "### REMOVE  1 : remove outlier in clusters...\n",
      "###  139  rects last.\n",
      "uni:  [0 1 2 3 4 5 6 7 8]\n",
      "unic:  [21 14 25  9 11 23 11 15 10]\n",
      "labels_of_outlier:  []\n",
      "######## Finished.\n"
     ]
    }
   ],
   "source": [
    "labels = get_cluster_label(rects)\n",
    "\n",
    "def get_label_of_outlier(labels):\n",
    "    uni, unic = np.unique(labels, return_counts=True)\n",
    "    print(\"uni: \", uni)\n",
    "    print(\"unic: \", unic)\n",
    "    labels_of_outlier = uni[unic < 4]\n",
    "    print(\"labels_of_outlier: \", labels_of_outlier)\n",
    "    return labels_of_outlier\n",
    "\n",
    "labels_of_outlier = get_label_of_outlier(labels)\n",
    "\n",
    "def is_outlier(idx):\n",
    "    label = labels[idx]\n",
    "    return (labels_of_outlier == label).any()\n",
    "\n",
    "loop = 0\n",
    "while len(labels_of_outlier) != 0:\n",
    "    loop += 1\n",
    "    print('### REMOVE ', loop, ': remove outlier in clusters...')\n",
    "    rects = [rect for idx, rect in enumerate(rects) if not is_outlier(idx)]\n",
    "    print('### ', len(rects), ' rects last.')\n",
    "    labels = get_cluster_label(rects)\n",
    "    labels_of_outlier = get_label_of_outlier(labels)\n",
    "\n",
    "print('######## Finished.')"
   ]
  },
  {
   "cell_type": "code",
   "execution_count": 19,
   "metadata": {
    "ExecuteTime": {
     "end_time": "2018-07-20T21:05:55.963994Z",
     "start_time": "2018-07-20T21:05:55.958969Z"
    }
   },
   "outputs": [],
   "source": [
    "def save_drawn_rects(img, rects, name='rect'):\n",
    "    for idx, rect in enumerate(rects):\n",
    "            cv2.rectangle(img, (rect[0], rect[1]), (rect[0] + rect[2], rect[1] + rect[3]), 130, 3)\n",
    "\n",
    "    cv2.imwrite('inter/', name, '.jpg', img)"
   ]
  },
  {
   "cell_type": "markdown",
   "metadata": {},
   "source": [
    "## Line Divided"
   ]
  },
  {
   "cell_type": "code",
   "execution_count": 8,
   "metadata": {
    "ExecuteTime": {
     "end_time": "2018-07-20T20:49:31.449357Z",
     "start_time": "2018-07-20T20:49:31.441438Z"
    }
   },
   "outputs": [
    {
     "data": {
      "text/plain": [
       "array([5, 5, 5, 5, 5, 5, 5, 5, 5, 5, 5, 5, 5, 5, 5, 5, 5, 5, 5, 5, 5, 5, 5,\n",
       "       1, 1, 1, 1, 1, 1, 1, 1, 1, 1, 1, 1, 1, 1, 8, 8, 8, 8, 8, 8, 8, 8, 8,\n",
       "       8, 2, 2, 2, 2, 2, 2, 2, 2, 2, 2, 2, 2, 2, 2, 2, 2, 2, 2, 2, 2, 2, 2,\n",
       "       2, 2, 2, 7, 7, 7, 7, 7, 7, 7, 7, 7, 7, 7, 7, 7, 7, 7, 6, 6, 6, 6, 6,\n",
       "       6, 6, 6, 6, 6, 6, 0, 0, 0, 0, 0, 0, 0, 0, 0, 0, 0, 0, 0, 0, 0, 0, 0,\n",
       "       0, 0, 0, 0, 4, 4, 4, 4, 4, 4, 4, 4, 4, 4, 4, 3, 3, 3, 3, 3, 3, 3, 3,\n",
       "       3], dtype=int32)"
      ]
     },
     "execution_count": 8,
     "metadata": {},
     "output_type": "execute_result"
    }
   ],
   "source": [
    "labels"
   ]
  },
  {
   "cell_type": "code",
   "execution_count": 9,
   "metadata": {
    "ExecuteTime": {
     "end_time": "2018-07-20T20:49:33.227603Z",
     "start_time": "2018-07-20T20:49:33.220916Z"
    }
   },
   "outputs": [
    {
     "name": "stdout",
     "output_type": "stream",
     "text": [
      "lines_in_label:  [3, 4, 0, 6, 7, 2, 8, 1, 5]\n"
     ]
    }
   ],
   "source": [
    "uni = np.unique(labels)\n",
    "idxes = np.unique(labels, return_index=True)[1]\n",
    "lines_in_label = [labels[idx] for idx in sorted(idxes, reverse=True)]\n",
    "print('lines_in_label: ', lines_in_label)"
   ]
  },
  {
   "cell_type": "code",
   "execution_count": 10,
   "metadata": {
    "ExecuteTime": {
     "end_time": "2018-07-20T20:49:36.791185Z",
     "start_time": "2018-07-20T20:49:36.785614Z"
    }
   },
   "outputs": [],
   "source": [
    "rects_in_line = []\n",
    "rects_ = np.asarray(rects)\n",
    "for i in range(9):\n",
    "    line = sorted(rects_[labels == lines_in_label[i]], key=lambda item: item[0])\n",
    "    rects_in_line.append(line)\n",
    "    "
   ]
  },
  {
   "cell_type": "markdown",
   "metadata": {},
   "source": [
    "## Digit Cluster"
   ]
  },
  {
   "cell_type": "code",
   "execution_count": 73,
   "metadata": {
    "ExecuteTime": {
     "end_time": "2018-07-20T21:49:10.628101Z",
     "start_time": "2018-07-20T21:49:10.617681Z"
    }
   },
   "outputs": [
    {
     "name": "stdout",
     "output_type": "stream",
     "text": [
      "[array([330, 340,  12,  42]), array([341, 272,  14,  67]), array([458, 289,  64,  93]), array([603, 294,  59, 106]), array([751, 299,  75, 111]), array([959, 317,  14,  93]), array([1108,  318,   61,   79]), array([1292,  326,   61,   78]), array([1452,  307,   59,  173])]\n"
     ]
    }
   ],
   "source": [
    "line_num = 0\n",
    "line = rects_in_line[line_num]\n",
    "print(line)\n",
    "n_in_line = [8, 11, 18]\n",
    "\n",
    "def get_digit_cluster_label(rects, n):\n",
    "    estimator = KMeans(n_clusters=n)\n",
    "    estimator.fit([[rect[0]+rect[2]/2, 0] for rect in rects])\n",
    "    return estimator.labels_"
   ]
  },
  {
   "cell_type": "code",
   "execution_count": 74,
   "metadata": {
    "ExecuteTime": {
     "end_time": "2018-07-20T21:49:12.019089Z",
     "start_time": "2018-07-20T21:49:12.008086Z"
    }
   },
   "outputs": [
    {
     "data": {
      "text/plain": [
       "[array([330, 340,  12,  42]),\n",
       " array([341, 272,  14,  67]),\n",
       " array([458, 289,  64,  93]),\n",
       " array([603, 294,  59, 106]),\n",
       " array([751, 299,  75, 111]),\n",
       " array([959, 317,  14,  93]),\n",
       " array([1108,  318,   61,   79]),\n",
       " array([1292,  326,   61,   78]),\n",
       " array([1452,  307,   59,  173])]"
      ]
     },
     "execution_count": 74,
     "metadata": {},
     "output_type": "execute_result"
    }
   ],
   "source": [
    "line"
   ]
  },
  {
   "cell_type": "code",
   "execution_count": 75,
   "metadata": {
    "ExecuteTime": {
     "end_time": "2018-07-20T21:49:13.411626Z",
     "start_time": "2018-07-20T21:49:13.358310Z"
    }
   },
   "outputs": [
    {
     "name": "stdout",
     "output_type": "stream",
     "text": [
      "labels:  [2 2 7 0 6 4 1 5 3]\n",
      "uni:  [0 1 2 3 4 5 6 7]\n",
      "unic:  [1 1 2 1 1 1 1 1]\n",
      "labels_of_overlayed:  [2]\n"
     ]
    }
   ],
   "source": [
    "labels = get_digit_cluster_label(line, n_in_line[line_num//2])\n",
    "print('labels: ', labels)\n",
    "\n",
    "def get_label_of_overlayed(labels):\n",
    "    uni, unic = np.unique(labels, return_counts=True)\n",
    "    print(\"uni: \", uni)\n",
    "    print(\"unic: \", unic)\n",
    "    labels_of_overlayed = uni[unic > 1]\n",
    "    print(\"labels_of_overlayed: \", labels_of_overlayed)\n",
    "    return labels_of_overlayed\n",
    "\n",
    "labels_of_overlayed = get_label_of_overlayed(labels)\n",
    "\n",
    "def is_overlayed(idx):\n",
    "    label = labels[idx]\n",
    "    return (labels_of_overlayed == label).any()\n",
    "\n",
    "def merge_rects(rests):\n",
    "    x = min([rect[0] for rect in rects])\n",
    "    y = min([rect[1] for rect in rects])\n",
    "    w = max([rect[0] - x + rect[2] for rect in rects])\n",
    "    h = max([rect[1] - y + rect[3] for rect in rects])\n",
    "    return np.asarray([x, y, w, h])"
   ]
  },
  {
   "cell_type": "code",
   "execution_count": 76,
   "metadata": {
    "ExecuteTime": {
     "end_time": "2018-07-20T21:49:14.792745Z",
     "start_time": "2018-07-20T21:49:14.787162Z"
    }
   },
   "outputs": [],
   "source": [
    "'''\n",
    "Two Methods of merging\n",
    "'''\n",
    "\n",
    "# No.1 Naive 1 Round\n",
    "new_rects = []\n",
    "for label in labels_of_overlayed:\n",
    "#     print(labels == label)\n",
    "    overlayeds = np.asarray(line)[labels == label]\n",
    "    new_rect = merge_rects(overlayeds)\n",
    "    new_rects.append(new_rect)\n",
    "line = [rect for idx, rect in enumerate(line) if not is_overlayed(idx)]\n",
    "line = line + new_rects\n",
    "line.sort(key=lambda item: item[0])\n",
    "\n",
    "\n",
    "# No.2 Iteration\n",
    "# loop = 0\n",
    "# while len(labels_of_overlayed) != 0:\n",
    "#     loop += 1\n",
    "#     print('### REMOVE ', loop, ': merging digits...')\n",
    "    \n",
    "    \n",
    "#     print('### ', len(line), ' rects last.')\n",
    "#     labels = get_cluster_label(rects)\n",
    "#     labels_of_outlier = get_label_of_outlier(labels)\n",
    "\n",
    "# print('######## Finished.')"
   ]
  },
  {
   "cell_type": "code",
   "execution_count": 77,
   "metadata": {
    "ExecuteTime": {
     "end_time": "2018-07-20T21:49:16.298238Z",
     "start_time": "2018-07-20T21:49:16.288290Z"
    }
   },
   "outputs": [
    {
     "data": {
      "text/plain": [
       "[array([330, 272,  25, 110]),\n",
       " array([458, 289,  64,  93]),\n",
       " array([603, 294,  59, 106]),\n",
       " array([751, 299,  75, 111]),\n",
       " array([959, 317,  14,  93]),\n",
       " array([1108,  318,   61,   79]),\n",
       " array([1292,  326,   61,   78]),\n",
       " array([1452,  307,   59,  173])]"
      ]
     },
     "execution_count": 77,
     "metadata": {},
     "output_type": "execute_result"
    }
   ],
   "source": [
    "line"
   ]
  },
  {
   "cell_type": "code",
   "execution_count": 78,
   "metadata": {
    "ExecuteTime": {
     "end_time": "2018-07-20T21:49:23.243267Z",
     "start_time": "2018-07-20T21:49:23.194506Z"
    }
   },
   "outputs": [],
   "source": [
    "save_drawn_rects(src_img.copy(), line)"
   ]
  },
  {
   "cell_type": "code",
   "execution_count": null,
   "metadata": {},
   "outputs": [],
   "source": [
    "for line_num in range(len(rects_in_line)):\n",
    "    line = rects_in_line[line_num]\n",
    "    for idx, rect in enumerate(line):\n",
    "        if (idx == len(rects_in_line[line]) - 1):\n",
    "            break\n",
    "        # If overlay\n",
    "        if is_overlay(line(idx), line(idx+1)):"
   ]
  },
  {
   "cell_type": "markdown",
   "metadata": {},
   "source": [
    "# Test"
   ]
  },
  {
   "cell_type": "code",
   "execution_count": 79,
   "metadata": {
    "ExecuteTime": {
     "end_time": "2018-07-20T21:49:43.023249Z",
     "start_time": "2018-07-20T21:49:42.929760Z"
    }
   },
   "outputs": [
    {
     "name": "stdout",
     "output_type": "stream",
     "text": [
      "predict:  [1]\n",
      "predict:  [5]\n",
      "predict:  [3]\n",
      "predict:  [3]\n",
      "predict:  [1]\n",
      "predict:  [0]\n",
      "predict:  [0]\n",
      "predict:  [7]\n"
     ]
    },
    {
     "name": "stderr",
     "output_type": "stream",
     "text": [
      "/usr/local/anaconda3/lib/python3.6/site-packages/skimage/feature/_hog.py:150: skimage_deprecation: Default value of `block_norm`==`L1` is deprecated and will be changed to `L2-Hys` in v0.15. To supress this message specify explicitly the normalization method.\n",
      "  skimage_deprecation)\n",
      "/usr/local/anaconda3/lib/python3.6/site-packages/skimage/feature/_hog.py:248: skimage_deprecation: Argument `visualise` is deprecated and will be changed to `visualize` in v0.16\n",
      "  'be changed to `visualize` in v0.16', skimage_deprecation)\n"
     ]
    },
    {
     "data": {
      "text/plain": [
       "True"
      ]
     },
     "execution_count": 79,
     "metadata": {},
     "output_type": "execute_result"
    }
   ],
   "source": [
    "# Load the classifier\n",
    "clf = joblib.load(\"model/digits_cls.pkl\")\n",
    "\n",
    "num_img = src_img.copy()\n",
    "# For each rectangular region, calculate HOG features and predict\n",
    "# the digit using Linear SVM.\n",
    "for rect in line:\n",
    "    # Make the rec tangular region around the digit\n",
    "    leng = int(rect[3] * 1.6)\n",
    "    pt1 = int(rect[1] + rect[3] // 2 - leng // 2)\n",
    "    pt2 = int(rect[0] + rect[2] // 2 - leng // 2)\n",
    "    roi = th_img[pt1:pt1+leng, pt2:pt2+leng]\n",
    "#     rois.append(roi)\n",
    "# for roi in rois:\n",
    "    if roi.size <= 20: continue\n",
    "    cv2.imwrite('inter/roi-s.jpg', roi)\n",
    "    # Resize the image\n",
    "    roi = cv2.resize(roi, (28, 28), interpolation=cv2.INTER_AREA)\n",
    "    cv2.imwrite('inter/roi.jpg', roi)\n",
    "    roi = cv2.dilate(roi, (3, 3))\n",
    "    cv2.imwrite('inter/roi-d.jpg', roi)\n",
    "\n",
    "    # Calculate the HOG features\n",
    "    roi_hog_fd = hog(roi, orientations=9, pixels_per_cell=(14, 14), cells_per_block=(1, 1), visualise=False)\n",
    "    nbr = clf.predict(np.array([roi_hog_fd], 'float64'))\n",
    "    print('predict: ', nbr)\n",
    "    cv2.putText(num_img, str(int(nbr[0])), (rect[0], rect[1]),cv2.FONT_HERSHEY_DUPLEX, 2, 150, 3)\n",
    "    \n",
    "cv2.imwrite('inter/num.jpg', num_img)"
   ]
  },
  {
   "cell_type": "code",
   "execution_count": null,
   "metadata": {},
   "outputs": [],
   "source": []
  }
 ],
 "metadata": {
  "kernelspec": {
   "display_name": "Python 3",
   "language": "python",
   "name": "python3"
  },
  "language_info": {
   "codemirror_mode": {
    "name": "ipython",
    "version": 3
   },
   "file_extension": ".py",
   "mimetype": "text/x-python",
   "name": "python",
   "nbconvert_exporter": "python",
   "pygments_lexer": "ipython3",
   "version": "3.6.5"
  },
  "toc": {
   "base_numbering": 1,
   "nav_menu": {},
   "number_sections": true,
   "sideBar": true,
   "skip_h1_title": false,
   "title_cell": "Table of Contents",
   "title_sidebar": "Contents",
   "toc_cell": false,
   "toc_position": {},
   "toc_section_display": true,
   "toc_window_display": false
  },
  "varInspector": {
   "cols": {
    "lenName": 16,
    "lenType": 16,
    "lenVar": 40
   },
   "kernels_config": {
    "python": {
     "delete_cmd_postfix": "",
     "delete_cmd_prefix": "del ",
     "library": "var_list.py",
     "varRefreshCmd": "print(var_dic_list())"
    },
    "r": {
     "delete_cmd_postfix": ") ",
     "delete_cmd_prefix": "rm(",
     "library": "var_list.r",
     "varRefreshCmd": "cat(var_dic_list()) "
    }
   },
   "types_to_exclude": [
    "module",
    "function",
    "builtin_function_or_method",
    "instance",
    "_Feature"
   ],
   "window_display": false
  }
 },
 "nbformat": 4,
 "nbformat_minor": 2
}
